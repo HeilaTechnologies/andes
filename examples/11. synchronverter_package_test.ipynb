{
 "cells": [
  {
   "cell_type": "code",
   "execution_count": 1,
   "metadata": {},
   "outputs": [
    {
     "name": "stderr",
     "output_type": "stream",
     "text": [
      "Synchronverter: redefinition of member <p0>\n",
      "Synchronverter: redefinition of member <q0>\n"
     ]
    }
   ],
   "source": [
    "import andes\n",
    "ss = andes.System()\n",
    "ss.Synchronverter.prepare()"
   ]
  },
  {
   "cell_type": "code",
   "execution_count": 10,
   "metadata": {},
   "outputs": [
    {
     "data": {
      "text/latex": [
       "$\\displaystyle \\left[\\begin{matrix}\\frac{- E_{s}^{2} g_{sh} - E_{s} V \\left(- b_{sh} \\sin{\\left(\\theta - \\theta_s \\right)} + g_{sh} \\cos{\\left(\\theta - \\theta_s \\right)}\\right) + P_{0}}{D}\\end{matrix}\\right]$"
      ],
      "text/plain": [
       "Matrix([[(-E_{s}**2*g_{sh} - E_{s}*V*(-b_{sh}*sin(\\theta - \\theta_s) + g_{sh}*cos(\\theta - \\theta_s)) + P_0)/D]])"
      ]
     },
     "execution_count": 10,
     "metadata": {},
     "output_type": "execute_result"
    }
   ],
   "source": [
    "ss.Synchronverter.syms.f"
   ]
  },
  {
   "cell_type": "code",
   "execution_count": null,
   "metadata": {},
   "outputs": [],
   "source": []
  },
  {
   "cell_type": "code",
   "execution_count": null,
   "metadata": {},
   "outputs": [],
   "source": []
  }
 ],
 "metadata": {
  "kernelspec": {
   "display_name": "Python 3",
   "language": "python",
   "name": "python3"
  },
  "language_info": {
   "codemirror_mode": {
    "name": "ipython",
    "version": 3
   },
   "file_extension": ".py",
   "mimetype": "text/x-python",
   "name": "python",
   "nbconvert_exporter": "python",
   "pygments_lexer": "ipython3",
   "version": "3.7.8"
  }
 },
 "nbformat": 4,
 "nbformat_minor": 4
}
